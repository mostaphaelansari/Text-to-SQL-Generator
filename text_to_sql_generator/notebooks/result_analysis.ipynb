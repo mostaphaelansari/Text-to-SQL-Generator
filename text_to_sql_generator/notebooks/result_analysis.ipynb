{
 "cells": [
  {
   "cell_type": "code",
   "execution_count": 7,
   "id": "915fea79",
   "metadata": {},
   "outputs": [],
   "source": [
    "import pandas as pd\n",
    "from transformers import AutoTokenizer, AutoModelForSeq2SeqLM\n",
    "from nltk.translate.bleu_score import sentence_bleu, SmoothingFunction\n",
    "from tqdm import tqdm\n",
    "import os"
   ]
  },
  {
   "cell_type": "code",
   "execution_count": 8,
   "id": "9d1e92ff",
   "metadata": {},
   "outputs": [],
   "source": [
    "# Load fine-tuned model\n",
    "model_path = \"t5-sql-finetuned\"\n",
    "model = AutoModelForSeq2SeqLM.from_pretrained(model_path).cuda()\n",
    "tokenizer = AutoTokenizer.from_pretrained(model_path)"
   ]
  },
  {
   "cell_type": "code",
   "execution_count": 13,
   "id": "a6e43f97",
   "metadata": {},
   "outputs": [],
   "source": [
    "# Get the project root directory\n",
    "project_root = os.path.abspath(os.path.join(os.getcwd(), '..', '..'))\n",
    "data_path = os.path.join(project_root, 'text_to_sql_generator', 'data', 'processed', 'text2sql_clean.csv')\n",
    "df= pd.read_csv(data_path)\n",
    "prompts = df[\"sql_prompt\"].tolist()[:10000]\n",
    "targets = df[\"sql\"].tolist()[:10000]"
   ]
  },
  {
   "cell_type": "code",
   "execution_count": 14,
   "id": "852a109e",
   "metadata": {},
   "outputs": [
    {
     "name": "stderr",
     "output_type": "stream",
     "text": [
      "100%|██████████| 10000/10000 [1:09:07<00:00,  2.41it/s]"
     ]
    },
    {
     "name": "stdout",
     "output_type": "stream",
     "text": [
      "\n",
      "🔎 Evaluation Results:\n",
      "✅ Exact Match Accuracy: 2.43%\n",
      "🧪 Average BLEU Score: 0.1617\n",
      "❌ Failed Predictions: 9757 / 10000\n",
      "\n",
      "Some incorrect predictions:\n",
      "\n",
      "[1] Prompt: What is the total volume of timber sold by each salesperson, sorted by salesperson?\n",
      "  🔴 Predicted: SELECT salesperson, SUM(volume) as total_volume FROM salespersons GROUP BY salesperson;\n",
      "  ✅ Target:    SELECT salesperson_id, name, SUM(volume) as total_volume FROM timber_sales JOIN salesperson ON timber_sales.salesperson_id = salesperson.salesperson_id GROUP BY salesperson_id, name ORDER BY total_volume DESC;\n",
      "\n",
      "[2] Prompt: List all the unique equipment types and their corresponding total maintenance frequency from the equipment_maintenance table.\n",
      "  🔴 Predicted: SELECT equipment_type, SUM(maintenance_frequency) as total_maintenance FROM equipment_maintenance;\n",
      "  ✅ Target:    SELECT equipment_type, SUM(maintenance_frequency) AS total_maintenance_frequency FROM equipment_maintenance GROUP BY equipment_type;\n",
      "\n",
      "[3] Prompt: How many marine species are found in the Southern Ocean?\n",
      "  🔴 Predicted: SELECT COUNT(*) FROM marine_species WHERE region = 'Southern Ocean';\n",
      "  ✅ Target:    SELECT COUNT(*) FROM marine_species WHERE location = 'Southern Ocean';\n",
      "\n",
      "[4] Prompt: What is the total trade value and average price for each trader and stock in the trade_history table?\n",
      "  🔴 Predicted: SELECT trade_history, SUM(trade_value) as total_trade_value, AVG(price) as avg_price FROM trade_history GROUP BY trade_history;\n",
      "  ✅ Target:    SELECT trader_id, stock, SUM(price * quantity) as total_trade_value, AVG(price) as avg_price FROM trade_history GROUP BY trader_id, stock;\n",
      "\n",
      "[5] Prompt: Find the energy efficiency upgrades with the highest cost and their types.\n",
      "  🔴 Predicted: SELECT upgrade_name, cost FROM upgrades WHERE upgrade_type = 'energy efficiency' GROUP BY upgrade_name ORDER BY cost DESC LIMIT 1;\n",
      "  ✅ Target:    SELECT type, cost FROM (SELECT type, cost, ROW_NUMBER() OVER (ORDER BY cost DESC) as rn FROM upgrades) sub WHERE rn = 1;\n"
     ]
    },
    {
     "name": "stderr",
     "output_type": "stream",
     "text": [
      "\n"
     ]
    }
   ],
   "source": [
    "# Evaluation loop\n",
    "exact_matches = 0\n",
    "bleu_scores = []\n",
    "errors = []\n",
    "\n",
    "for prompt, target in tqdm(zip(prompts, targets), total=len(prompts)):\n",
    "    input_text = \"translate to SQL: \" + prompt\n",
    "    inputs = tokenizer(input_text, return_tensors=\"pt\", truncation=True).to(\"cuda\")\n",
    "    outputs = model.generate(**inputs, max_length=100, num_beams=4)\n",
    "    prediction = tokenizer.decode(outputs[0], skip_special_tokens=True).strip()\n",
    "\n",
    "    # Exact match\n",
    "    if prediction.strip().lower() == target.strip().lower():\n",
    "        exact_matches += 1\n",
    "    else:\n",
    "        errors.append((prompt, prediction, target))\n",
    "\n",
    "    # BLEU\n",
    "    reference = target.strip().split()\n",
    "    candidate = prediction.strip().split()\n",
    "    bleu = sentence_bleu([reference], candidate, smoothing_function=SmoothingFunction().method1)\n",
    "    bleu_scores.append(bleu)\n",
    "\n",
    "# Results\n",
    "total = len(prompts)\n",
    "print(f\"\\n🔎 Evaluation Results:\")\n",
    "print(f\"✅ Exact Match Accuracy: {exact_matches / total:.2%}\")\n",
    "print(f\"🧪 Average BLEU Score: {sum(bleu_scores)/total:.4f}\")\n",
    "print(f\"❌ Failed Predictions: {len(errors)} / {total}\")\n",
    "\n",
    "# Show sample errors\n",
    "print(\"\\nSome incorrect predictions:\")\n",
    "for i, (prompt, pred, true_sql) in enumerate(errors[:5]):\n",
    "    print(f\"\\n[{i+1}] Prompt: {prompt}\")\n",
    "    print(f\"  🔴 Predicted: {pred}\")\n",
    "    print(f\"  ✅ Target:    {true_sql}\")"
   ]
  },
  {
   "cell_type": "code",
   "execution_count": null,
   "id": "d2e553ab",
   "metadata": {},
   "outputs": [],
   "source": []
  }
 ],
 "metadata": {
  "kernelspec": {
   "display_name": "SQLtoTEXT",
   "language": "python",
   "name": "python3"
  },
  "language_info": {
   "codemirror_mode": {
    "name": "ipython",
    "version": 3
   },
   "file_extension": ".py",
   "mimetype": "text/x-python",
   "name": "python",
   "nbconvert_exporter": "python",
   "pygments_lexer": "ipython3",
   "version": "3.13.2"
  }
 },
 "nbformat": 4,
 "nbformat_minor": 5
}
