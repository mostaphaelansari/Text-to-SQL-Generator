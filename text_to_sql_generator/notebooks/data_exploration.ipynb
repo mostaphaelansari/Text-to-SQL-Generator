{
 "cells": [
  {
   "cell_type": "markdown",
   "id": "a84ced9c",
   "metadata": {},
   "source": [
    "# Data Exploration "
   ]
  },
  {
   "cell_type": "code",
   "execution_count": 2,
   "id": "a09932c6",
   "metadata": {},
   "outputs": [],
   "source": [
    "import pandas as pd\n",
    "import numpy as np \n",
    "import seaborn as sns \n",
    "import matplotlib.pyplot as plt\n",
    "import json\n",
    "\n",
    "%matplotlib inline "
   ]
  },
  {
   "cell_type": "code",
   "execution_count": 60,
   "id": "2dd2c524",
   "metadata": {},
   "outputs": [],
   "source": [
    "import os\n",
    "from huggingface_hub import login"
   ]
  },
  {
   "cell_type": "markdown",
   "id": "e3902084",
   "metadata": {},
   "source": [
    " **Load the dataset**"
   ]
  },
  {
   "cell_type": "code",
   "execution_count": 64,
   "id": "096e0445",
   "metadata": {},
   "outputs": [
    {
     "data": {
      "application/vnd.jupyter.widget-view+json": {
       "model_id": "c5f6773606e64b7ba57063cc548d85cf",
       "version_major": 2,
       "version_minor": 0
      },
      "text/plain": [
       "VBox(children=(HTML(value='<center> <img\\nsrc=https://huggingface.co/front/assets/huggingface_logo-noborder.sv…"
      ]
     },
     "metadata": {},
     "output_type": "display_data"
    }
   ],
   "source": [
    "token = os.environ.get(\"HF_TOKEN\")\n",
    "login(token=token)"
   ]
  },
  {
   "cell_type": "code",
   "execution_count": 63,
   "id": "ed576b0b",
   "metadata": {},
   "outputs": [],
   "source": [
    "from datasets import load_dataset\n",
    "\n",
    "gretel_dataset = load_dataset(\"gretelai/synthetic_text_to_sql\")"
   ]
  },
  {
   "cell_type": "code",
   "execution_count": 69,
   "id": "9b54f058",
   "metadata": {},
   "outputs": [
    {
     "name": "stdout",
     "output_type": "stream",
     "text": [
      "DatasetDict({\n",
      "    train: Dataset({\n",
      "        features: ['id', 'domain', 'domain_description', 'sql_complexity', 'sql_complexity_description', 'sql_task_type', 'sql_task_type_description', 'sql_prompt', 'sql_context', 'sql', 'sql_explanation'],\n",
      "        num_rows: 100000\n",
      "    })\n",
      "    test: Dataset({\n",
      "        features: ['id', 'domain', 'domain_description', 'sql_complexity', 'sql_complexity_description', 'sql_task_type', 'sql_task_type_description', 'sql_prompt', 'sql_context', 'sql', 'sql_explanation'],\n",
      "        num_rows: 5851\n",
      "    })\n",
      "})\n"
     ]
    }
   ],
   "source": [
    "print(gretel_dataset)"
   ]
  },
  {
   "cell_type": "code",
   "execution_count": 70,
   "id": "0e2c0128",
   "metadata": {},
   "outputs": [
    {
     "name": "stdout",
     "output_type": "stream",
     "text": [
      "{'id': 5097, 'domain': 'forestry', 'domain_description': 'Comprehensive data on sustainable forest management, timber production, wildlife habitat, and carbon sequestration in forestry.', 'sql_complexity': 'single join', 'sql_complexity_description': 'only one join (specify inner, outer, cross)', 'sql_task_type': 'analytics and reporting', 'sql_task_type_description': 'generating reports, dashboards, and analytical insights', 'sql_prompt': 'What is the total volume of timber sold by each salesperson, sorted by salesperson?', 'sql_context': \"CREATE TABLE salesperson (salesperson_id INT, name TEXT, region TEXT); INSERT INTO salesperson (salesperson_id, name, region) VALUES (1, 'John Doe', 'North'), (2, 'Jane Smith', 'South'); CREATE TABLE timber_sales (sales_id INT, salesperson_id INT, volume REAL, sale_date DATE); INSERT INTO timber_sales (sales_id, salesperson_id, volume, sale_date) VALUES (1, 1, 120, '2021-01-01'), (2, 1, 150, '2021-02-01'), (3, 2, 180, '2021-01-01');\", 'sql': 'SELECT salesperson_id, name, SUM(volume) as total_volume FROM timber_sales JOIN salesperson ON timber_sales.salesperson_id = salesperson.salesperson_id GROUP BY salesperson_id, name ORDER BY total_volume DESC;', 'sql_explanation': 'Joins timber_sales and salesperson tables, groups sales by salesperson, calculates total volume sold by each salesperson, and orders the results by total volume in descending order.'}\n"
     ]
    }
   ],
   "source": [
    "print(gretel_dataset[\"train\"][0])"
   ]
  },
  {
   "cell_type": "code",
   "execution_count": 71,
   "id": "1d839911",
   "metadata": {},
   "outputs": [
    {
     "name": "stdout",
     "output_type": "stream",
     "text": [
      "{'id': 1, 'domain': 'artificial intelligence', 'domain_description': 'AI data on algorithmic fairness, AI safety, explainable AI, and creative AI applications.', 'sql_complexity': 'basic SQL', 'sql_complexity_description': 'basic SQL with a simple select statement', 'sql_task_type': 'analytics and reporting', 'sql_task_type_description': 'generating reports, dashboards, and analytical insights', 'sql_prompt': \"What is the average explainability score of creative AI applications in 'Europe' and 'North America' in the 'creative_ai' table?\", 'sql_context': \"CREATE TABLE creative_ai (application_id INT, name TEXT, region TEXT, explainability_score FLOAT); INSERT INTO creative_ai (application_id, name, region, explainability_score) VALUES (1, 'ApplicationX', 'Europe', 0.87), (2, 'ApplicationY', 'North America', 0.91), (3, 'ApplicationZ', 'Europe', 0.84), (4, 'ApplicationAA', 'North America', 0.93), (5, 'ApplicationAB', 'Europe', 0.89);\", 'sql': \"SELECT AVG(explainability_score) FROM creative_ai WHERE region IN ('Europe', 'North America');\", 'sql_explanation': \"This SQL query calculates the average explainability score of creative AI applications in 'Europe' and 'North America' in the 'creative_ai' table by using the AVG() function on the 'explainability_score' column, and the WHERE clause to filter records based on the 'region' column.\"}\n"
     ]
    }
   ],
   "source": [
    "print(gretel_dataset[\"test\"][0])"
   ]
  },
  {
   "cell_type": "code",
   "execution_count": 74,
   "id": "f69282c8",
   "metadata": {},
   "outputs": [],
   "source": [
    "data = gretel_dataset[\"test\"].to_pandas()"
   ]
  },
  {
   "cell_type": "code",
   "execution_count": 75,
   "id": "73c88983",
   "metadata": {},
   "outputs": [
    {
     "data": {
      "text/html": [
       "<div>\n",
       "<style scoped>\n",
       "    .dataframe tbody tr th:only-of-type {\n",
       "        vertical-align: middle;\n",
       "    }\n",
       "\n",
       "    .dataframe tbody tr th {\n",
       "        vertical-align: top;\n",
       "    }\n",
       "\n",
       "    .dataframe thead th {\n",
       "        text-align: right;\n",
       "    }\n",
       "</style>\n",
       "<table border=\"1\" class=\"dataframe\">\n",
       "  <thead>\n",
       "    <tr style=\"text-align: right;\">\n",
       "      <th></th>\n",
       "      <th>id</th>\n",
       "      <th>domain</th>\n",
       "      <th>domain_description</th>\n",
       "      <th>sql_complexity</th>\n",
       "      <th>sql_complexity_description</th>\n",
       "      <th>sql_task_type</th>\n",
       "      <th>sql_task_type_description</th>\n",
       "      <th>sql_prompt</th>\n",
       "      <th>sql_context</th>\n",
       "      <th>sql</th>\n",
       "      <th>sql_explanation</th>\n",
       "    </tr>\n",
       "  </thead>\n",
       "  <tbody>\n",
       "    <tr>\n",
       "      <th>0</th>\n",
       "      <td>1</td>\n",
       "      <td>artificial intelligence</td>\n",
       "      <td>AI data on algorithmic fairness, AI safety, ex...</td>\n",
       "      <td>basic SQL</td>\n",
       "      <td>basic SQL with a simple select statement</td>\n",
       "      <td>analytics and reporting</td>\n",
       "      <td>generating reports, dashboards, and analytical...</td>\n",
       "      <td>What is the average explainability score of cr...</td>\n",
       "      <td>CREATE TABLE creative_ai (application_id INT, ...</td>\n",
       "      <td>SELECT AVG(explainability_score) FROM creative...</td>\n",
       "      <td>This SQL query calculates the average explaina...</td>\n",
       "    </tr>\n",
       "    <tr>\n",
       "      <th>1</th>\n",
       "      <td>2</td>\n",
       "      <td>rural development</td>\n",
       "      <td>Agricultural innovation metrics, rural infrast...</td>\n",
       "      <td>basic SQL</td>\n",
       "      <td>basic SQL with a simple select statement</td>\n",
       "      <td>data manipulation</td>\n",
       "      <td>inserting, updating, or deleting records</td>\n",
       "      <td>Delete all records of rural infrastructure pro...</td>\n",
       "      <td>CREATE TABLE rural_infrastructure (id INT, pro...</td>\n",
       "      <td>DELETE FROM rural_infrastructure WHERE country...</td>\n",
       "      <td>This SQL query deletes all records of rural in...</td>\n",
       "    </tr>\n",
       "    <tr>\n",
       "      <th>2</th>\n",
       "      <td>3</td>\n",
       "      <td>aerospace</td>\n",
       "      <td>Aircraft manufacturing data, satellite deploym...</td>\n",
       "      <td>aggregation</td>\n",
       "      <td>aggregation functions (COUNT, SUM, AVG, MIN, M...</td>\n",
       "      <td>analytics and reporting</td>\n",
       "      <td>generating reports, dashboards, and analytical...</td>\n",
       "      <td>How many accidents have been recorded for Spac...</td>\n",
       "      <td>CREATE TABLE Accidents (id INT, launch_provide...</td>\n",
       "      <td>SELECT launch_provider, COUNT(*) FROM Accident...</td>\n",
       "      <td>This query groups the Accidents table by the l...</td>\n",
       "    </tr>\n",
       "    <tr>\n",
       "      <th>3</th>\n",
       "      <td>4</td>\n",
       "      <td>aquaculture</td>\n",
       "      <td>Aquatic farming data, fish stock management, o...</td>\n",
       "      <td>basic SQL</td>\n",
       "      <td>basic SQL with a simple select statement</td>\n",
       "      <td>analytics and reporting</td>\n",
       "      <td>generating reports, dashboards, and analytical...</td>\n",
       "      <td>What is the maximum quantity of seafood sold i...</td>\n",
       "      <td>CREATE TABLE sales (id INT, location VARCHAR(2...</td>\n",
       "      <td>SELECT MAX(quantity) FROM sales;</td>\n",
       "      <td>Find the maximum quantity of seafood sold in a...</td>\n",
       "    </tr>\n",
       "    <tr>\n",
       "      <th>4</th>\n",
       "      <td>5</td>\n",
       "      <td>entertainment industry</td>\n",
       "      <td>Audience demographics, viewership trends, cont...</td>\n",
       "      <td>basic SQL</td>\n",
       "      <td>basic SQL with a simple select statement</td>\n",
       "      <td>analytics and reporting</td>\n",
       "      <td>generating reports, dashboards, and analytical...</td>\n",
       "      <td>What is the total budget for movies released b...</td>\n",
       "      <td>CREATE TABLE Movies_Release_Year (id INT, titl...</td>\n",
       "      <td>SELECT SUM(budget) FROM Movies_Release_Year WH...</td>\n",
       "      <td>This query calculates the total budget for mov...</td>\n",
       "    </tr>\n",
       "  </tbody>\n",
       "</table>\n",
       "</div>"
      ],
      "text/plain": [
       "   id                   domain  \\\n",
       "0   1  artificial intelligence   \n",
       "1   2        rural development   \n",
       "2   3                aerospace   \n",
       "3   4              aquaculture   \n",
       "4   5   entertainment industry   \n",
       "\n",
       "                                  domain_description sql_complexity  \\\n",
       "0  AI data on algorithmic fairness, AI safety, ex...      basic SQL   \n",
       "1  Agricultural innovation metrics, rural infrast...      basic SQL   \n",
       "2  Aircraft manufacturing data, satellite deploym...    aggregation   \n",
       "3  Aquatic farming data, fish stock management, o...      basic SQL   \n",
       "4  Audience demographics, viewership trends, cont...      basic SQL   \n",
       "\n",
       "                          sql_complexity_description            sql_task_type  \\\n",
       "0           basic SQL with a simple select statement  analytics and reporting   \n",
       "1           basic SQL with a simple select statement        data manipulation   \n",
       "2  aggregation functions (COUNT, SUM, AVG, MIN, M...  analytics and reporting   \n",
       "3           basic SQL with a simple select statement  analytics and reporting   \n",
       "4           basic SQL with a simple select statement  analytics and reporting   \n",
       "\n",
       "                           sql_task_type_description  \\\n",
       "0  generating reports, dashboards, and analytical...   \n",
       "1           inserting, updating, or deleting records   \n",
       "2  generating reports, dashboards, and analytical...   \n",
       "3  generating reports, dashboards, and analytical...   \n",
       "4  generating reports, dashboards, and analytical...   \n",
       "\n",
       "                                          sql_prompt  \\\n",
       "0  What is the average explainability score of cr...   \n",
       "1  Delete all records of rural infrastructure pro...   \n",
       "2  How many accidents have been recorded for Spac...   \n",
       "3  What is the maximum quantity of seafood sold i...   \n",
       "4  What is the total budget for movies released b...   \n",
       "\n",
       "                                         sql_context  \\\n",
       "0  CREATE TABLE creative_ai (application_id INT, ...   \n",
       "1  CREATE TABLE rural_infrastructure (id INT, pro...   \n",
       "2  CREATE TABLE Accidents (id INT, launch_provide...   \n",
       "3  CREATE TABLE sales (id INT, location VARCHAR(2...   \n",
       "4  CREATE TABLE Movies_Release_Year (id INT, titl...   \n",
       "\n",
       "                                                 sql  \\\n",
       "0  SELECT AVG(explainability_score) FROM creative...   \n",
       "1  DELETE FROM rural_infrastructure WHERE country...   \n",
       "2  SELECT launch_provider, COUNT(*) FROM Accident...   \n",
       "3                   SELECT MAX(quantity) FROM sales;   \n",
       "4  SELECT SUM(budget) FROM Movies_Release_Year WH...   \n",
       "\n",
       "                                     sql_explanation  \n",
       "0  This SQL query calculates the average explaina...  \n",
       "1  This SQL query deletes all records of rural in...  \n",
       "2  This query groups the Accidents table by the l...  \n",
       "3  Find the maximum quantity of seafood sold in a...  \n",
       "4  This query calculates the total budget for mov...  "
      ]
     },
     "execution_count": 75,
     "metadata": {},
     "output_type": "execute_result"
    }
   ],
   "source": [
    "data.head()"
   ]
  },
  {
   "cell_type": "code",
   "execution_count": null,
   "id": "1c946f34",
   "metadata": {},
   "outputs": [],
   "source": []
  }
 ],
 "metadata": {
  "kernelspec": {
   "display_name": "sql",
   "language": "python",
   "name": "python3"
  },
  "language_info": {
   "codemirror_mode": {
    "name": "ipython",
    "version": 3
   },
   "file_extension": ".py",
   "mimetype": "text/x-python",
   "name": "python",
   "nbconvert_exporter": "python",
   "pygments_lexer": "ipython3",
   "version": "3.10.16"
  }
 },
 "nbformat": 4,
 "nbformat_minor": 5
}
