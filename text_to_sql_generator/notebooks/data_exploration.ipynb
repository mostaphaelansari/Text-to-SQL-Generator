{
 "cells": [
  {
   "cell_type": "markdown",
   "id": "a84ced9c",
   "metadata": {},
   "source": [
    "# Data Exploration "
   ]
  },
  {
   "cell_type": "code",
   "execution_count": 1,
   "id": "a09932c6",
   "metadata": {},
   "outputs": [],
   "source": [
    "import pandas as pd\n",
    "import numpy as np\n",
    "import seaborn as sns\n",
    "import matplotlib.pyplot as plt\n",
    "import json\n",
    "\n",
    "# Enable inline plotting for Jupyter Notebooks\n",
    "%matplotlib inline\n"
   ]
  },
  {
   "cell_type": "code",
   "execution_count": 2,
   "id": "2dd2c524",
   "metadata": {},
   "outputs": [
    {
     "name": "stderr",
     "output_type": "stream",
     "text": [
      "c:\\Users\\mosta\\anaconda3\\envs\\SQLtoTEXT\\Lib\\site-packages\\requests\\__init__.py:86: RequestsDependencyWarning: Unable to find acceptable character detection dependency (chardet or charset_normalizer).\n",
      "  warnings.warn(\n"
     ]
    }
   ],
   "source": [
    "import os\n",
    "from huggingface_hub import login "
   ]
  },
  {
   "cell_type": "markdown",
   "id": "e3902084",
   "metadata": {},
   "source": [
    " **Load the dataset**"
   ]
  },
  {
   "cell_type": "code",
   "execution_count": 3,
   "id": "096e0445",
   "metadata": {},
   "outputs": [
    {
     "data": {
      "application/vnd.jupyter.widget-view+json": {
       "model_id": "fe3f8afcf13741bfba0133ef2f834065",
       "version_major": 2,
       "version_minor": 0
      },
      "text/plain": [
       "VBox(children=(HTML(value='<center> <img\\nsrc=https://huggingface.co/front/assets/huggingface_logo-noborder.sv…"
      ]
     },
     "metadata": {},
     "output_type": "display_data"
    }
   ],
   "source": [
    "token = os.environ.get(\"HF_TOKEN\")\n",
    "login(token=token)"
   ]
  },
  {
   "cell_type": "code",
   "execution_count": 4,
   "id": "ed576b0b",
   "metadata": {},
   "outputs": [],
   "source": [
    "from datasets import load_dataset\n",
    "\n",
    "gretel_dataset = load_dataset(\"gretelai/synthetic_text_to_sql\")"
   ]
  },
  {
   "cell_type": "code",
   "execution_count": 5,
   "id": "9b54f058",
   "metadata": {},
   "outputs": [
    {
     "name": "stdout",
     "output_type": "stream",
     "text": [
      "DatasetDict({\n",
      "    train: Dataset({\n",
      "        features: ['id', 'domain', 'domain_description', 'sql_complexity', 'sql_complexity_description', 'sql_task_type', 'sql_task_type_description', 'sql_prompt', 'sql_context', 'sql', 'sql_explanation'],\n",
      "        num_rows: 100000\n",
      "    })\n",
      "    test: Dataset({\n",
      "        features: ['id', 'domain', 'domain_description', 'sql_complexity', 'sql_complexity_description', 'sql_task_type', 'sql_task_type_description', 'sql_prompt', 'sql_context', 'sql', 'sql_explanation'],\n",
      "        num_rows: 5851\n",
      "    })\n",
      "})\n"
     ]
    }
   ],
   "source": [
    "print(gretel_dataset)"
   ]
  },
  {
   "cell_type": "code",
   "execution_count": 6,
   "id": "0e2c0128",
   "metadata": {},
   "outputs": [
    {
     "name": "stdout",
     "output_type": "stream",
     "text": [
      "{'id': 5097, 'domain': 'forestry', 'domain_description': 'Comprehensive data on sustainable forest management, timber production, wildlife habitat, and carbon sequestration in forestry.', 'sql_complexity': 'single join', 'sql_complexity_description': 'only one join (specify inner, outer, cross)', 'sql_task_type': 'analytics and reporting', 'sql_task_type_description': 'generating reports, dashboards, and analytical insights', 'sql_prompt': 'What is the total volume of timber sold by each salesperson, sorted by salesperson?', 'sql_context': \"CREATE TABLE salesperson (salesperson_id INT, name TEXT, region TEXT); INSERT INTO salesperson (salesperson_id, name, region) VALUES (1, 'John Doe', 'North'), (2, 'Jane Smith', 'South'); CREATE TABLE timber_sales (sales_id INT, salesperson_id INT, volume REAL, sale_date DATE); INSERT INTO timber_sales (sales_id, salesperson_id, volume, sale_date) VALUES (1, 1, 120, '2021-01-01'), (2, 1, 150, '2021-02-01'), (3, 2, 180, '2021-01-01');\", 'sql': 'SELECT salesperson_id, name, SUM(volume) as total_volume FROM timber_sales JOIN salesperson ON timber_sales.salesperson_id = salesperson.salesperson_id GROUP BY salesperson_id, name ORDER BY total_volume DESC;', 'sql_explanation': 'Joins timber_sales and salesperson tables, groups sales by salesperson, calculates total volume sold by each salesperson, and orders the results by total volume in descending order.'}\n"
     ]
    }
   ],
   "source": [
    "print(gretel_dataset[\"train\"][0])"
   ]
  },
  {
   "cell_type": "code",
   "execution_count": 7,
   "id": "1d839911",
   "metadata": {},
   "outputs": [
    {
     "name": "stdout",
     "output_type": "stream",
     "text": [
      "{'id': 5097, 'domain': 'forestry', 'domain_description': 'Comprehensive data on sustainable forest management, timber production, wildlife habitat, and carbon sequestration in forestry.', 'sql_complexity': 'single join', 'sql_complexity_description': 'only one join (specify inner, outer, cross)', 'sql_task_type': 'analytics and reporting', 'sql_task_type_description': 'generating reports, dashboards, and analytical insights', 'sql_prompt': 'What is the total volume of timber sold by each salesperson, sorted by salesperson?', 'sql_context': \"CREATE TABLE salesperson (salesperson_id INT, name TEXT, region TEXT); INSERT INTO salesperson (salesperson_id, name, region) VALUES (1, 'John Doe', 'North'), (2, 'Jane Smith', 'South'); CREATE TABLE timber_sales (sales_id INT, salesperson_id INT, volume REAL, sale_date DATE); INSERT INTO timber_sales (sales_id, salesperson_id, volume, sale_date) VALUES (1, 1, 120, '2021-01-01'), (2, 1, 150, '2021-02-01'), (3, 2, 180, '2021-01-01');\", 'sql': 'SELECT salesperson_id, name, SUM(volume) as total_volume FROM timber_sales JOIN salesperson ON timber_sales.salesperson_id = salesperson.salesperson_id GROUP BY salesperson_id, name ORDER BY total_volume DESC;', 'sql_explanation': 'Joins timber_sales and salesperson tables, groups sales by salesperson, calculates total volume sold by each salesperson, and orders the results by total volume in descending order.'}\n"
     ]
    }
   ],
   "source": [
    "print(gretel_dataset[\"train\"][0])"
   ]
  },
  {
   "cell_type": "code",
   "execution_count": 8,
   "id": "f69282c8",
   "metadata": {},
   "outputs": [],
   "source": [
    "data = gretel_dataset[\"train\"].to_pandas()"
   ]
  },
  {
   "cell_type": "code",
   "execution_count": 9,
   "id": "73c88983",
   "metadata": {},
   "outputs": [
    {
     "data": {
      "text/html": [
       "<div>\n",
       "<style scoped>\n",
       "    .dataframe tbody tr th:only-of-type {\n",
       "        vertical-align: middle;\n",
       "    }\n",
       "\n",
       "    .dataframe tbody tr th {\n",
       "        vertical-align: top;\n",
       "    }\n",
       "\n",
       "    .dataframe thead th {\n",
       "        text-align: right;\n",
       "    }\n",
       "</style>\n",
       "<table border=\"1\" class=\"dataframe\">\n",
       "  <thead>\n",
       "    <tr style=\"text-align: right;\">\n",
       "      <th></th>\n",
       "      <th>id</th>\n",
       "      <th>domain</th>\n",
       "      <th>domain_description</th>\n",
       "      <th>sql_complexity</th>\n",
       "      <th>sql_complexity_description</th>\n",
       "      <th>sql_task_type</th>\n",
       "      <th>sql_task_type_description</th>\n",
       "      <th>sql_prompt</th>\n",
       "      <th>sql_context</th>\n",
       "      <th>sql</th>\n",
       "      <th>sql_explanation</th>\n",
       "    </tr>\n",
       "  </thead>\n",
       "  <tbody>\n",
       "    <tr>\n",
       "      <th>0</th>\n",
       "      <td>5097</td>\n",
       "      <td>forestry</td>\n",
       "      <td>Comprehensive data on sustainable forest manag...</td>\n",
       "      <td>single join</td>\n",
       "      <td>only one join (specify inner, outer, cross)</td>\n",
       "      <td>analytics and reporting</td>\n",
       "      <td>generating reports, dashboards, and analytical...</td>\n",
       "      <td>What is the total volume of timber sold by eac...</td>\n",
       "      <td>CREATE TABLE salesperson (salesperson_id INT, ...</td>\n",
       "      <td>SELECT salesperson_id, name, SUM(volume) as to...</td>\n",
       "      <td>Joins timber_sales and salesperson tables, gro...</td>\n",
       "    </tr>\n",
       "    <tr>\n",
       "      <th>1</th>\n",
       "      <td>5098</td>\n",
       "      <td>defense industry</td>\n",
       "      <td>Defense contract data, military equipment main...</td>\n",
       "      <td>aggregation</td>\n",
       "      <td>aggregation functions (COUNT, SUM, AVG, MIN, M...</td>\n",
       "      <td>analytics and reporting</td>\n",
       "      <td>generating reports, dashboards, and analytical...</td>\n",
       "      <td>List all the unique equipment types and their ...</td>\n",
       "      <td>CREATE TABLE equipment_maintenance (equipment_...</td>\n",
       "      <td>SELECT equipment_type, SUM(maintenance_frequen...</td>\n",
       "      <td>This query groups the equipment_maintenance ta...</td>\n",
       "    </tr>\n",
       "    <tr>\n",
       "      <th>2</th>\n",
       "      <td>5099</td>\n",
       "      <td>marine biology</td>\n",
       "      <td>Comprehensive data on marine species, oceanogr...</td>\n",
       "      <td>basic SQL</td>\n",
       "      <td>basic SQL with a simple select statement</td>\n",
       "      <td>analytics and reporting</td>\n",
       "      <td>generating reports, dashboards, and analytical...</td>\n",
       "      <td>How many marine species are found in the South...</td>\n",
       "      <td>CREATE TABLE marine_species (name VARCHAR(50),...</td>\n",
       "      <td>SELECT COUNT(*) FROM marine_species WHERE loca...</td>\n",
       "      <td>This query counts the number of marine species...</td>\n",
       "    </tr>\n",
       "    <tr>\n",
       "      <th>3</th>\n",
       "      <td>5100</td>\n",
       "      <td>financial services</td>\n",
       "      <td>Detailed financial data including investment s...</td>\n",
       "      <td>aggregation</td>\n",
       "      <td>aggregation functions (COUNT, SUM, AVG, MIN, M...</td>\n",
       "      <td>analytics and reporting</td>\n",
       "      <td>generating reports, dashboards, and analytical...</td>\n",
       "      <td>What is the total trade value and average pric...</td>\n",
       "      <td>CREATE TABLE trade_history (id INT, trader_id ...</td>\n",
       "      <td>SELECT trader_id, stock, SUM(price * quantity)...</td>\n",
       "      <td>This query calculates the total trade value an...</td>\n",
       "    </tr>\n",
       "    <tr>\n",
       "      <th>4</th>\n",
       "      <td>5101</td>\n",
       "      <td>energy</td>\n",
       "      <td>Energy market data covering renewable energy s...</td>\n",
       "      <td>window functions</td>\n",
       "      <td>window functions (e.g., ROW_NUMBER, LEAD, LAG,...</td>\n",
       "      <td>analytics and reporting</td>\n",
       "      <td>generating reports, dashboards, and analytical...</td>\n",
       "      <td>Find the energy efficiency upgrades with the h...</td>\n",
       "      <td>CREATE TABLE upgrades (id INT, cost FLOAT, typ...</td>\n",
       "      <td>SELECT type, cost FROM (SELECT type, cost, ROW...</td>\n",
       "      <td>The SQL query uses the ROW_NUMBER function to ...</td>\n",
       "    </tr>\n",
       "  </tbody>\n",
       "</table>\n",
       "</div>"
      ],
      "text/plain": [
       "     id              domain  \\\n",
       "0  5097            forestry   \n",
       "1  5098    defense industry   \n",
       "2  5099      marine biology   \n",
       "3  5100  financial services   \n",
       "4  5101              energy   \n",
       "\n",
       "                                  domain_description    sql_complexity  \\\n",
       "0  Comprehensive data on sustainable forest manag...       single join   \n",
       "1  Defense contract data, military equipment main...       aggregation   \n",
       "2  Comprehensive data on marine species, oceanogr...         basic SQL   \n",
       "3  Detailed financial data including investment s...       aggregation   \n",
       "4  Energy market data covering renewable energy s...  window functions   \n",
       "\n",
       "                          sql_complexity_description            sql_task_type  \\\n",
       "0        only one join (specify inner, outer, cross)  analytics and reporting   \n",
       "1  aggregation functions (COUNT, SUM, AVG, MIN, M...  analytics and reporting   \n",
       "2           basic SQL with a simple select statement  analytics and reporting   \n",
       "3  aggregation functions (COUNT, SUM, AVG, MIN, M...  analytics and reporting   \n",
       "4  window functions (e.g., ROW_NUMBER, LEAD, LAG,...  analytics and reporting   \n",
       "\n",
       "                           sql_task_type_description  \\\n",
       "0  generating reports, dashboards, and analytical...   \n",
       "1  generating reports, dashboards, and analytical...   \n",
       "2  generating reports, dashboards, and analytical...   \n",
       "3  generating reports, dashboards, and analytical...   \n",
       "4  generating reports, dashboards, and analytical...   \n",
       "\n",
       "                                          sql_prompt  \\\n",
       "0  What is the total volume of timber sold by eac...   \n",
       "1  List all the unique equipment types and their ...   \n",
       "2  How many marine species are found in the South...   \n",
       "3  What is the total trade value and average pric...   \n",
       "4  Find the energy efficiency upgrades with the h...   \n",
       "\n",
       "                                         sql_context  \\\n",
       "0  CREATE TABLE salesperson (salesperson_id INT, ...   \n",
       "1  CREATE TABLE equipment_maintenance (equipment_...   \n",
       "2  CREATE TABLE marine_species (name VARCHAR(50),...   \n",
       "3  CREATE TABLE trade_history (id INT, trader_id ...   \n",
       "4  CREATE TABLE upgrades (id INT, cost FLOAT, typ...   \n",
       "\n",
       "                                                 sql  \\\n",
       "0  SELECT salesperson_id, name, SUM(volume) as to...   \n",
       "1  SELECT equipment_type, SUM(maintenance_frequen...   \n",
       "2  SELECT COUNT(*) FROM marine_species WHERE loca...   \n",
       "3  SELECT trader_id, stock, SUM(price * quantity)...   \n",
       "4  SELECT type, cost FROM (SELECT type, cost, ROW...   \n",
       "\n",
       "                                     sql_explanation  \n",
       "0  Joins timber_sales and salesperson tables, gro...  \n",
       "1  This query groups the equipment_maintenance ta...  \n",
       "2  This query counts the number of marine species...  \n",
       "3  This query calculates the total trade value an...  \n",
       "4  The SQL query uses the ROW_NUMBER function to ...  "
      ]
     },
     "execution_count": 9,
     "metadata": {},
     "output_type": "execute_result"
    }
   ],
   "source": [
    "data.head()"
   ]
  },
  {
   "cell_type": "code",
   "execution_count": 10,
   "id": "1c946f34",
   "metadata": {},
   "outputs": [
    {
     "name": "stdout",
     "output_type": "stream",
     "text": [
      "['id', 'domain', 'domain_description', 'sql_complexity', 'sql_complexity_description', 'sql_task_type', 'sql_task_type_description', 'sql_prompt', 'sql_context', 'sql', 'sql_explanation']\n"
     ]
    }
   ],
   "source": [
    "print(data.columns.tolist())"
   ]
  },
  {
   "cell_type": "markdown",
   "id": "045bdbf7",
   "metadata": {},
   "source": [
    "**EDA**"
   ]
  },
  {
   "cell_type": "code",
   "execution_count": 11,
   "id": "d7b9831c",
   "metadata": {},
   "outputs": [
    {
     "name": "stdout",
     "output_type": "stream",
     "text": [
      "                       domain  count\n",
      "0             ethical fashion   1368\n",
      "1               cybersecurity   1360\n",
      "2           rural development   1357\n",
      "3                 hospitality   1296\n",
      "4  sustainable infrastructure   1266\n"
     ]
    }
   ],
   "source": [
    "domain_counts = data[\"domain\"].value_counts().reset_index()\n",
    "domain_counts = domain_counts[:10]\n",
    "domain_counts.columns = [\"domain\", \"count\"]\n",
    "print(domain_counts.head())"
   ]
  },
  {
   "cell_type": "code",
   "execution_count": 12,
   "id": "36322c92",
   "metadata": {},
   "outputs": [
    {
     "data": {
      "image/png": "[encoded data removed]",
      "text/plain": [
       "<Figure size 1200x1000 with 1 Axes>"
      ]
     },
     "metadata": {},
     "output_type": "display_data"
    }
   ],
   "source": [
    "plt.figure(figsize=(12, 10))\n",
    "sns.barplot(\n",
    "    data=domain_counts, \n",
    "    x=\"count\", \n",
    "    y=\"domain\", \n",
    "    orient=\"h\", \n",
    "    palette=\"viridis\",\n",
    "    hue=\"domain\",legend = False  \n",
    ")\n",
    "plt.title(\"Top 10 domains covered by the data\")\n",
    "plt.xlabel(\"Count\")\n",
    "plt.ylabel(\"Domain\")\n",
    "plt.tight_layout()\n",
    "plt.show()"
   ]
  },
  {
   "cell_type": "code",
   "execution_count": 13,
   "id": "08c831f9",
   "metadata": {},
   "outputs": [],
   "source": [
    "sql_operation = data[\"sql_complexity\"].value_counts().reset_index()\n",
    "sql_operation.columns = [\"operation\",\"count\"]"
   ]
  },
  {
   "cell_type": "code",
   "execution_count": 14,
   "id": "a80ca993",
   "metadata": {},
   "outputs": [
    {
     "data": {
      "text/html": [
       "<div>\n",
       "<style scoped>\n",
       "    .dataframe tbody tr th:only-of-type {\n",
       "        vertical-align: middle;\n",
       "    }\n",
       "\n",
       "    .dataframe tbody tr th {\n",
       "        vertical-align: top;\n",
       "    }\n",
       "\n",
       "    .dataframe thead th {\n",
       "        text-align: right;\n",
       "    }\n",
       "</style>\n",
       "<table border=\"1\" class=\"dataframe\">\n",
       "  <thead>\n",
       "    <tr style=\"text-align: right;\">\n",
       "      <th></th>\n",
       "      <th>operation</th>\n",
       "      <th>count</th>\n",
       "    </tr>\n",
       "  </thead>\n",
       "  <tbody>\n",
       "    <tr>\n",
       "      <th>0</th>\n",
       "      <td>basic SQL</td>\n",
       "      <td>48466</td>\n",
       "    </tr>\n",
       "    <tr>\n",
       "      <th>1</th>\n",
       "      <td>aggregation</td>\n",
       "      <td>22015</td>\n",
       "    </tr>\n",
       "    <tr>\n",
       "      <th>2</th>\n",
       "      <td>single join</td>\n",
       "      <td>14932</td>\n",
       "    </tr>\n",
       "    <tr>\n",
       "      <th>3</th>\n",
       "      <td>subqueries</td>\n",
       "      <td>6719</td>\n",
       "    </tr>\n",
       "    <tr>\n",
       "      <th>4</th>\n",
       "      <td>window functions</td>\n",
       "      <td>3596</td>\n",
       "    </tr>\n",
       "    <tr>\n",
       "      <th>5</th>\n",
       "      <td>multiple_joins</td>\n",
       "      <td>2949</td>\n",
       "    </tr>\n",
       "    <tr>\n",
       "      <th>6</th>\n",
       "      <td>set operations</td>\n",
       "      <td>1050</td>\n",
       "    </tr>\n",
       "    <tr>\n",
       "      <th>7</th>\n",
       "      <td>CTEs</td>\n",
       "      <td>273</td>\n",
       "    </tr>\n",
       "  </tbody>\n",
       "</table>\n",
       "</div>"
      ],
      "text/plain": [
       "          operation  count\n",
       "0         basic SQL  48466\n",
       "1       aggregation  22015\n",
       "2       single join  14932\n",
       "3        subqueries   6719\n",
       "4  window functions   3596\n",
       "5    multiple_joins   2949\n",
       "6    set operations   1050\n",
       "7              CTEs    273"
      ]
     },
     "execution_count": 14,
     "metadata": {},
     "output_type": "execute_result"
    }
   ],
   "source": [
    "sql_operation.head(len(data.columns.tolist()))"
   ]
  },
  {
   "cell_type": "code",
   "execution_count": 15,
   "id": "e16358f8",
   "metadata": {},
   "outputs": [
    {
     "data": {
      "image/png": "[encoded data removed]",
      "text/plain": [
       "<Figure size 1200x1000 with 1 Axes>"
      ]
     },
     "metadata": {},
     "output_type": "display_data"
    }
   ],
   "source": [
    "plt.figure(figsize=(12,10))\n",
    "sns.barplot(\n",
    "    data=sql_operation, \n",
    "    x='count', \n",
    "    y=\"operation\", \n",
    "    hue=\"operation\",  # Add this line to assign the y variable to hue\n",
    "    orient=\"h\", \n",
    "    palette='viridis',\n",
    "    legend=False      # Add this to prevent a redundant legend\n",
    ")\n",
    "plt.title('The most used SQL operation in the dataset')\n",
    "plt.xlabel(\"Count\")\n",
    "plt.ylabel(\"Operation\")\n",
    "plt.tight_layout()\n",
    "plt.show()"
   ]
  },
  {
   "cell_type": "code",
   "execution_count": 16,
   "id": "4f2a0ced",
   "metadata": {},
   "outputs": [
    {
     "data": {
      "image/png": "[encoded data removed]",
      "text/plain": [
       "<Figure size 1200x1000 with 1 Axes>"
      ]
     },
     "metadata": {},
     "output_type": "display_data"
    }
   ],
   "source": [
    "plt.figure(figsize=(12,10))\n",
    "sns.barplot(\n",
    "    data=sql_operation, \n",
    "    x=\"operation\",  # Swap x and y\n",
    "    y='count',      # Swap x and y\n",
    "    hue=\"operation\", \n",
    "    orient=\"v\",     # Change to vertical orientation\n",
    "    palette='viridis',\n",
    "    legend=False\n",
    ")\n",
    "plt.title('The most used SQL operation in the dataset')\n",
    "plt.xlabel(\"Operation\")  # Swap x and y labels\n",
    "plt.ylabel(\"Count\")      # Swap x and y labels\n",
    "plt.xticks(rotation=45, ha='right')  # Rotate x-axis labels for better readability\n",
    "plt.tight_layout()\n",
    "plt.show()"
   ]
  },
  {
   "cell_type": "code",
   "execution_count": 17,
   "id": "fc059340",
   "metadata": {},
   "outputs": [],
   "source": [
    "sql_tasks = data[\"sql_task_type\"].value_counts().reset_index()\n",
    "sql_tasks.columns = [\"Task Type\",\"count\"]"
   ]
  },
  {
   "cell_type": "code",
   "execution_count": 18,
   "id": "086fcf60",
   "metadata": {},
   "outputs": [
    {
     "data": {
      "text/html": [
       "<div>\n",
       "<style scoped>\n",
       "    .dataframe tbody tr th:only-of-type {\n",
       "        vertical-align: middle;\n",
       "    }\n",
       "\n",
       "    .dataframe tbody tr th {\n",
       "        vertical-align: top;\n",
       "    }\n",
       "\n",
       "    .dataframe thead th {\n",
       "        text-align: right;\n",
       "    }\n",
       "</style>\n",
       "<table border=\"1\" class=\"dataframe\">\n",
       "  <thead>\n",
       "    <tr style=\"text-align: right;\">\n",
       "      <th></th>\n",
       "      <th>Task Type</th>\n",
       "      <th>count</th>\n",
       "    </tr>\n",
       "  </thead>\n",
       "  <tbody>\n",
       "    <tr>\n",
       "      <th>0</th>\n",
       "      <td>analytics and reporting</td>\n",
       "      <td>88186</td>\n",
       "    </tr>\n",
       "    <tr>\n",
       "      <th>1</th>\n",
       "      <td>data manipulation</td>\n",
       "      <td>9665</td>\n",
       "    </tr>\n",
       "    <tr>\n",
       "      <th>2</th>\n",
       "      <td>data retrieval</td>\n",
       "      <td>1309</td>\n",
       "    </tr>\n",
       "    <tr>\n",
       "      <th>3</th>\n",
       "      <td>data definition</td>\n",
       "      <td>840</td>\n",
       "    </tr>\n",
       "  </tbody>\n",
       "</table>\n",
       "</div>"
      ],
      "text/plain": [
       "                 Task Type  count\n",
       "0  analytics and reporting  88186\n",
       "1        data manipulation   9665\n",
       "2           data retrieval   1309\n",
       "3          data definition    840"
      ]
     },
     "execution_count": 18,
     "metadata": {},
     "output_type": "execute_result"
    }
   ],
   "source": [
    "sql_tasks"
   ]
  },
  {
   "cell_type": "code",
   "execution_count": 19,
   "id": "600fcf79",
   "metadata": {},
   "outputs": [
    {
     "data": {
      "text/html": [
       "<div>\n",
       "<style scoped>\n",
       "    .dataframe tbody tr th:only-of-type {\n",
       "        vertical-align: middle;\n",
       "    }\n",
       "\n",
       "    .dataframe tbody tr th {\n",
       "        vertical-align: top;\n",
       "    }\n",
       "\n",
       "    .dataframe thead th {\n",
       "        text-align: right;\n",
       "    }\n",
       "</style>\n",
       "<table border=\"1\" class=\"dataframe\">\n",
       "  <thead>\n",
       "    <tr style=\"text-align: right;\">\n",
       "      <th></th>\n",
       "      <th>column</th>\n",
       "      <th>Number of na value</th>\n",
       "    </tr>\n",
       "  </thead>\n",
       "  <tbody>\n",
       "    <tr>\n",
       "      <th>0</th>\n",
       "      <td>id</td>\n",
       "      <td>100000</td>\n",
       "    </tr>\n",
       "    <tr>\n",
       "      <th>1</th>\n",
       "      <td>domain</td>\n",
       "      <td>100000</td>\n",
       "    </tr>\n",
       "    <tr>\n",
       "      <th>2</th>\n",
       "      <td>domain_description</td>\n",
       "      <td>100000</td>\n",
       "    </tr>\n",
       "    <tr>\n",
       "      <th>3</th>\n",
       "      <td>sql_complexity</td>\n",
       "      <td>100000</td>\n",
       "    </tr>\n",
       "    <tr>\n",
       "      <th>4</th>\n",
       "      <td>sql_complexity_description</td>\n",
       "      <td>100000</td>\n",
       "    </tr>\n",
       "    <tr>\n",
       "      <th>5</th>\n",
       "      <td>sql_task_type</td>\n",
       "      <td>100000</td>\n",
       "    </tr>\n",
       "    <tr>\n",
       "      <th>6</th>\n",
       "      <td>sql_task_type_description</td>\n",
       "      <td>100000</td>\n",
       "    </tr>\n",
       "    <tr>\n",
       "      <th>7</th>\n",
       "      <td>sql_prompt</td>\n",
       "      <td>100000</td>\n",
       "    </tr>\n",
       "    <tr>\n",
       "      <th>8</th>\n",
       "      <td>sql_context</td>\n",
       "      <td>100000</td>\n",
       "    </tr>\n",
       "    <tr>\n",
       "      <th>9</th>\n",
       "      <td>sql</td>\n",
       "      <td>100000</td>\n",
       "    </tr>\n",
       "    <tr>\n",
       "      <th>10</th>\n",
       "      <td>sql_explanation</td>\n",
       "      <td>100000</td>\n",
       "    </tr>\n",
       "  </tbody>\n",
       "</table>\n",
       "</div>"
      ],
      "text/plain": [
       "                        column  Number of na value\n",
       "0                           id              100000\n",
       "1                       domain              100000\n",
       "2           domain_description              100000\n",
       "3               sql_complexity              100000\n",
       "4   sql_complexity_description              100000\n",
       "5                sql_task_type              100000\n",
       "6    sql_task_type_description              100000\n",
       "7                   sql_prompt              100000\n",
       "8                  sql_context              100000\n",
       "9                          sql              100000\n",
       "10             sql_explanation              100000"
      ]
     },
     "execution_count": 19,
     "metadata": {},
     "output_type": "execute_result"
    }
   ],
   "source": [
    "na_data = data.isna().count().reset_index()\n",
    "na_data.columns = [\"column\",\"Number of na value\"]\n",
    "na_data"
   ]
  },
  {
   "cell_type": "code",
   "execution_count": 20,
   "id": "33861216",
   "metadata": {},
   "outputs": [
    {
     "data": {
      "text/html": [
       "<div>\n",
       "<style scoped>\n",
       "    .dataframe tbody tr th:only-of-type {\n",
       "        vertical-align: middle;\n",
       "    }\n",
       "\n",
       "    .dataframe tbody tr th {\n",
       "        vertical-align: top;\n",
       "    }\n",
       "\n",
       "    .dataframe thead th {\n",
       "        text-align: right;\n",
       "    }\n",
       "</style>\n",
       "<table border=\"1\" class=\"dataframe\">\n",
       "  <thead>\n",
       "    <tr style=\"text-align: right;\">\n",
       "      <th></th>\n",
       "      <th>column</th>\n",
       "      <th>Number of na values</th>\n",
       "    </tr>\n",
       "  </thead>\n",
       "  <tbody>\n",
       "    <tr>\n",
       "      <th>0</th>\n",
       "      <td>id</td>\n",
       "      <td>0</td>\n",
       "    </tr>\n",
       "    <tr>\n",
       "      <th>1</th>\n",
       "      <td>domain</td>\n",
       "      <td>0</td>\n",
       "    </tr>\n",
       "    <tr>\n",
       "      <th>2</th>\n",
       "      <td>domain_description</td>\n",
       "      <td>0</td>\n",
       "    </tr>\n",
       "    <tr>\n",
       "      <th>3</th>\n",
       "      <td>sql_complexity</td>\n",
       "      <td>0</td>\n",
       "    </tr>\n",
       "    <tr>\n",
       "      <th>4</th>\n",
       "      <td>sql_complexity_description</td>\n",
       "      <td>0</td>\n",
       "    </tr>\n",
       "    <tr>\n",
       "      <th>5</th>\n",
       "      <td>sql_task_type</td>\n",
       "      <td>0</td>\n",
       "    </tr>\n",
       "    <tr>\n",
       "      <th>6</th>\n",
       "      <td>sql_task_type_description</td>\n",
       "      <td>0</td>\n",
       "    </tr>\n",
       "    <tr>\n",
       "      <th>7</th>\n",
       "      <td>sql_prompt</td>\n",
       "      <td>0</td>\n",
       "    </tr>\n",
       "    <tr>\n",
       "      <th>8</th>\n",
       "      <td>sql_context</td>\n",
       "      <td>0</td>\n",
       "    </tr>\n",
       "    <tr>\n",
       "      <th>9</th>\n",
       "      <td>sql</td>\n",
       "      <td>0</td>\n",
       "    </tr>\n",
       "    <tr>\n",
       "      <th>10</th>\n",
       "      <td>sql_explanation</td>\n",
       "      <td>0</td>\n",
       "    </tr>\n",
       "  </tbody>\n",
       "</table>\n",
       "</div>"
      ],
      "text/plain": [
       "                        column  Number of na values\n",
       "0                           id                    0\n",
       "1                       domain                    0\n",
       "2           domain_description                    0\n",
       "3               sql_complexity                    0\n",
       "4   sql_complexity_description                    0\n",
       "5                sql_task_type                    0\n",
       "6    sql_task_type_description                    0\n",
       "7                   sql_prompt                    0\n",
       "8                  sql_context                    0\n",
       "9                          sql                    0\n",
       "10             sql_explanation                    0"
      ]
     },
     "execution_count": 20,
     "metadata": {},
     "output_type": "execute_result"
    }
   ],
   "source": [
    "na_data = data.isna().sum().reset_index()\n",
    "na_data.columns = [\"column\", \"Number of na values\"]\n",
    "na_data\n"
   ]
  },
  {
   "cell_type": "code",
   "execution_count": 21,
   "id": "3fcbb951",
   "metadata": {},
   "outputs": [],
   "source": [
    "train_data = gretel_dataset[\"train\"].to_pandas()"
   ]
  },
  {
   "cell_type": "code",
   "execution_count": 22,
   "id": "abc0b9c6",
   "metadata": {},
   "outputs": [
    {
     "data": {
      "text/plain": [
       "(100000, 11)"
      ]
     },
     "execution_count": 22,
     "metadata": {},
     "output_type": "execute_result"
    }
   ],
   "source": [
    "train_data.shape"
   ]
  },
  {
   "cell_type": "code",
   "execution_count": 23,
   "id": "3053bdae",
   "metadata": {},
   "outputs": [
    {
     "name": "stdout",
     "output_type": "stream",
     "text": [
      "                                              sql_prompt  \\\n",
      "63091  What is the total amount donated by corporatio...   \n",
      "58953  Delete all records in the 'hydro_plants' table...   \n",
      "94710  What is the total claim amount for each policy...   \n",
      "73414  Which spacecraft were launched by NASA and wha...   \n",
      "\n",
      "                                                     sql  \n",
      "63091  SELECT SUM(AmountDonated) FROM Donors WHERE Co...  \n",
      "58953  DELETE FROM hydro_plants WHERE country = 'Braz...  \n",
      "94710  SELECT State, SUM(ClaimAmount) FROM Policyhold...  \n",
      "73414  SELECT Name, MaxAltitude FROM Spacecraft WHERE...  \n"
     ]
    }
   ],
   "source": [
    "print(train_data[['sql_prompt', 'sql']].sample(4))"
   ]
  },
  {
   "cell_type": "code",
   "execution_count": 24,
   "id": "b5b0bb89",
   "metadata": {},
   "outputs": [],
   "source": [
    "data = data[['sql_prompt', 'sql']].dropna().reset_index(drop=True)"
   ]
  },
  {
   "cell_type": "code",
   "execution_count": 31,
   "id": "04a785f0",
   "metadata": {},
   "outputs": [],
   "source": [
    "os.makedirs(\"text_to_sql_generator/data/processed\", exist_ok=True)\n",
    "data.to_csv(\"text_to_sql_generator/data/processed/text2sql_clean.csv\", index=False)"
   ]
  },
  {
   "cell_type": "code",
   "execution_count": null,
   "id": "119314e0",
   "metadata": {},
   "outputs": [],
   "source": []
  }
 ],
 "metadata": {
  "kernelspec": {
   "display_name": "SQLtoTEXT",
   "language": "python",
   "name": "python3"
  },
  "language_info": {
   "codemirror_mode": {
    "name": "ipython",
    "version": 3
   },
   "file_extension": ".py",
   "mimetype": "text/x-python",
   "name": "python",
   "nbconvert_exporter": "python",
   "pygments_lexer": "ipython3",
   "version": "3.13.2"
  }
 },
 "nbformat": 4,
 "nbformat_minor": 5
}
